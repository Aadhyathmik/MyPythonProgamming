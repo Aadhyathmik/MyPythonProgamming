{
 "cells": [
  {
   "cell_type": "code",
   "execution_count": 13,
   "metadata": {},
   "outputs": [
    {
     "name": "stdout",
     "output_type": "stream",
     "text": [
      "-3\n",
      "1\n"
     ]
    }
   ],
   "source": [
    "# This program checks the factorial of any number\n",
    "# Inputs:    Takes a Positive Integer\n",
    "# Outputs:   Prints the number's factorial\n",
    "# Date           Who               Change\n",
    "# 07-JUL-2019    AAD               Created. Initial Version\n",
    "\n",
    "\n",
    "\n",
    "\n",
    "\n",
    "\n",
    "x = int(input())\n",
    "a = 1\n",
    "stv = 2\n",
    "env = x + 1\n",
    "if x == 1 or x == 0 or x == 2:\n",
    "    print(x)\n",
    "else:\n",
    "    for counter in range(stv,env):\n",
    "        #print('Before multiplying, the value of a was %s' % (a))\n",
    "        a = a * counter\n",
    "        #print('After multiplying, the value of a is %s' % (a))\n",
    "    print(a)"
   ]
  },
  {
   "cell_type": "code",
   "execution_count": null,
   "metadata": {},
   "outputs": [],
   "source": []
  },
  {
   "cell_type": "code",
   "execution_count": null,
   "metadata": {},
   "outputs": [],
   "source": []
  }
 ],
 "metadata": {
  "kernelspec": {
   "display_name": "Python 3",
   "language": "python",
   "name": "python3"
  },
  "language_info": {
   "codemirror_mode": {
    "name": "ipython",
    "version": 3
   },
   "file_extension": ".py",
   "mimetype": "text/x-python",
   "name": "python",
   "nbconvert_exporter": "python",
   "pygments_lexer": "ipython3",
   "version": "3.7.1"
  }
 },
 "nbformat": 4,
 "nbformat_minor": 2
}
