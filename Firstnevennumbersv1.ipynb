{
 "cells": [
  {
   "cell_type": "code",
   "execution_count": null,
   "metadata": {},
   "outputs": [],
   "source": [
    "# This program prints the first n even numbers\n",
    "# Inputs:    Takes a Positive Integer\n",
    "# Outputs:   Prints n even numbers \n",
    "# Date           Who               Change\n",
    "# 07-JUL-2019    AAD               Created. Initial Version\n",
    "# Using for loop env I made it so the code could search the numbers twice as much\n",
    "\n",
    "\n",
    "\n",
    "\n",
    "x = int(input())\n",
    "stv = 1\n",
    "env = x * 2 + 1\n",
    "a = 0\n",
    "for counter in range(stv,env):\n",
    "    if counter % 2 != 0:\n",
    "        continue\n",
    "    else:\n",
    "        if a == env :\n",
    "            break\n",
    "        else:\n",
    "            a = a + 1\n",
    "            print(counter)"
   ]
  },
  {
   "cell_type": "code",
   "execution_count": 2,
   "metadata": {},
   "outputs": [
    {
     "name": "stdout",
     "output_type": "stream",
     "text": [
      "10\n",
      "2\n",
      "4\n",
      "6\n",
      "8\n",
      "10\n",
      "12\n",
      "14\n",
      "16\n",
      "18\n",
      "20\n"
     ]
    }
   ],
   "source": [
    "# This program prints the first n even numbers\n",
    "# Inputs:    Takes a Positive Integer\n",
    "# Outputs:   Prints n even numbers \n",
    "# Date           Who               Change\n",
    "# 07-JUL-2019    AAD               Created. Initial Version\n",
    "# Using while loop\n",
    "\n",
    "\n",
    "\n",
    "\n",
    "\n",
    "x = int(input())\n",
    "a = 0\n",
    "counter = 0\n",
    "while a < x:\n",
    "    counter = counter + 1\n",
    "    if counter % 2 != 0:\n",
    "        continue\n",
    "    else:\n",
    "        print(counter)\n",
    "        a = a + 1"
   ]
  }
 ],
 "metadata": {
  "kernelspec": {
   "display_name": "Python 3",
   "language": "python",
   "name": "python3"
  },
  "language_info": {
   "codemirror_mode": {
    "name": "ipython",
    "version": 3
   },
   "file_extension": ".py",
   "mimetype": "text/x-python",
   "name": "python",
   "nbconvert_exporter": "python",
   "pygments_lexer": "ipython3",
   "version": "3.7.1"
  }
 },
 "nbformat": 4,
 "nbformat_minor": 2
}
