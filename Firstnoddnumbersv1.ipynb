{
 "cells": [
  {
   "cell_type": "code",
   "execution_count": 5,
   "metadata": {},
   "outputs": [
    {
     "name": "stdout",
     "output_type": "stream",
     "text": [
      "1\n",
      "1\n"
     ]
    }
   ],
   "source": [
    "# This program prints the first n odd numbers\n",
    "# Inputs:    Takes a Positive Integer\n",
    "# Outputs:   Prints n odd numbers \n",
    "# Date           Who               Change\n",
    "# 07-JUL-2019    AAD               Created. Initial Version\n",
    "# Using for loop env I made it so the code could search the numbers twice as much\n",
    "\n",
    "\n",
    "\n",
    "\n",
    "x = int(input())\n",
    "stv = 1\n",
    "env = x * 2 + 1\n",
    "a = 0\n",
    "for counter in range(stv,env):\n",
    "    if counter % 2 == 0:\n",
    "        continue\n",
    "    else:\n",
    "        if a == env :\n",
    "            break\n",
    "        else:\n",
    "            a = a + 1\n",
    "            print(counter)"
   ]
  },
  {
   "cell_type": "code",
   "execution_count": 6,
   "metadata": {},
   "outputs": [
    {
     "name": "stdout",
     "output_type": "stream",
     "text": [
      "1\n",
      "1\n"
     ]
    }
   ],
   "source": [
    "# This program prints the first n odd numbers\n",
    "# Inputs:    Takes a Positive Integer\n",
    "# Outputs:   Prints n odd numbers \n",
    "# Date           Who               Change\n",
    "# 07-JUL-2019    AAD               Created. Initial Version\n",
    "# Using while loop\n",
    "\n",
    "\n",
    "\n",
    "\n",
    "\n",
    "x = int(input())\n",
    "a = 0\n",
    "counter = 0\n",
    "while a < x:\n",
    "    counter = counter + 1\n",
    "    if counter % 2 == 0:\n",
    "        continue\n",
    "    else:\n",
    "        print(counter)\n",
    "        a = a + 1"
   ]
  },
  {
   "cell_type": "code",
   "execution_count": null,
   "metadata": {},
   "outputs": [],
   "source": []
  }
 ],
 "metadata": {
  "kernelspec": {
   "display_name": "Python 3",
   "language": "python",
   "name": "python3"
  },
  "language_info": {
   "codemirror_mode": {
    "name": "ipython",
    "version": 3
   },
   "file_extension": ".py",
   "mimetype": "text/x-python",
   "name": "python",
   "nbconvert_exporter": "python",
   "pygments_lexer": "ipython3",
   "version": "3.7.1"
  }
 },
 "nbformat": 4,
 "nbformat_minor": 2
}
