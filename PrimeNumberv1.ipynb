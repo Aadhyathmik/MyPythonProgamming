{
 "cells": [
  {
   "cell_type": "code",
   "execution_count": null,
   "metadata": {},
   "outputs": [],
   "source": [
    "# This program checks if a number is prime or not\n",
    "# Inputs:    Takes a Positive Integer\n",
    "# Outputs:   Prints Number is Prime or Composite\n",
    "# Date           Who               Change\n",
    "# 07-JUL-2019    AAD               Created. Initial Version\n",
    "\n",
    "\n",
    "x = int(input())\n",
    "stv = 2\n",
    "env = x\n",
    "is_prime = 0 # 0 MEANS NOT PRIME 1 MEANS PRIME\n",
    "if x == 2:\n",
    "    print('The number is prime')\n",
    "elif x == 1 or x == 0:\n",
    "    print('Not a Prime or Composite')\n",
    "else:\n",
    "    is_prime=1  #marker\n",
    "    for counter in range(stv,env):\n",
    "        #print('%s / %s = %s' % (x,counter,x % counter))\n",
    "        if x % counter == 0:\n",
    "            is_prime=0\n",
    "            break  \n",
    "    #print('counter %s' %counter)\n",
    "    if is_prime == 1:\n",
    "        print('The number is prime')\n",
    "    else:\n",
    "        print('The number is composite')"
   ]
  }
 ],
 "metadata": {
  "kernelspec": {
   "display_name": "Python 3",
   "language": "python",
   "name": "python3"
  },
  "language_info": {
   "codemirror_mode": {
    "name": "ipython",
    "version": 3
   },
   "file_extension": ".py",
   "mimetype": "text/x-python",
   "name": "python",
   "nbconvert_exporter": "python",
   "pygments_lexer": "ipython3",
   "version": "3.7.1"
  }
 },
 "nbformat": 4,
 "nbformat_minor": 2
}
