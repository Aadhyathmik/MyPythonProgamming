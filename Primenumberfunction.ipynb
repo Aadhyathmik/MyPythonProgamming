{
 "cells": [
  {
   "cell_type": "code",
   "execution_count": 1,
   "metadata": {},
   "outputs": [],
   "source": [
    "# This program checks if a number is prime or not\n",
    "# Inputs:    Takes a Positive Integer\n",
    "# Outputs:   Prints Number is Prime or Composite\n",
    "# Date           Who               Change\n",
    "# 07-JUL-2019    AAD               Created. Initial Version\n",
    "\n",
    "#function isprimenumber()\n",
    "#Inputs:    An integer\n",
    "#Outputs:   Returns 'Y' or 'N'\n",
    "#\n",
    "def isprimenumber(x):\n",
    "    stv = 2\n",
    "    env = x\n",
    "    is_prime = 0 # 0 MEANS NOT PRIME 1 MEANS PRIME\n",
    "    if x == 2:\n",
    "        return 'Y'\n",
    "    #print('The number is prime')\n",
    "    elif x == 1 or x == 0:\n",
    "        return 'N'\n",
    "    #print('Not a Prime or Composite')\n",
    "    else:\n",
    "        is_prime=1  #marker\n",
    "        for counter in range(stv,env):\n",
    "            #print('%s / %s = %s' % (x,counter,x % counter))\n",
    "            if x % counter == 0:\n",
    "                is_prime=0\n",
    "                break  \n",
    "        #print('counter %s' %counter)\n",
    "        if is_prime == 1:\n",
    "            return 'Y'\n",
    "            #print('The number is prime')\n",
    "        else:\n",
    "            return 'N'\n",
    "            #print('The number is composite')\n",
    "\n",
    "            \n",
    "x = int(input())\n",
    "z = isprimenumber(x)\n",
    "if z == 'Y':\n",
    "    print('%s is prime' % (x))\n",
    "else:\n",
    "    print('%s is not prime' % (x))"
   ]
  },
  {
   "cell_type": "code",
   "execution_count": 9,
   "metadata": {},
   "outputs": [
    {
     "name": "stdout",
     "output_type": "stream",
     "text": [
      "10\n",
      "2\n",
      "3\n",
      "5\n",
      "7\n",
      "11\n",
      "13\n",
      "17\n",
      "19\n",
      "23\n",
      "29\n"
     ]
    }
   ],
   "source": [
    "# This program lists the first n prime numbers\n",
    "# Inputs:    Takes number of prime numbers to print\n",
    "# Outputs:   Prints first n prime numbers using the function isprimenumber()\n",
    "# Date           Who               Change\n",
    "# 07-JUL-2019    AAD               Created. Initial Version\n",
    "\n",
    "\n",
    "\n",
    "\n",
    "\n",
    "x = int(input())\n",
    "counter = 0\n",
    "number =0\n",
    "while counter < x:\n",
    "    number = number + 1\n",
    "    z = isprimenumber(number)\n",
    "    if z == 'Y':\n",
    "        print('%s' % (number))\n",
    "        counter = counter + 1\n",
    "    else:\n",
    "        continue"
   ]
  },
  {
   "cell_type": "code",
   "execution_count": 10,
   "metadata": {},
   "outputs": [
    {
     "name": "stdout",
     "output_type": "stream",
     "text": [
      "10\n",
      "100\n",
      "101\n",
      "103\n",
      "107\n",
      "109\n",
      "113\n",
      "127\n",
      "131\n",
      "137\n",
      "139\n",
      "149\n"
     ]
    }
   ],
   "source": [
    "# This program lists the first n prime numbers from a given starting value\n",
    "# Inputs:   1. Takes number of prime numbers to print\n",
    "#           2. Takes the integer you want to start from\n",
    "# Outputs:   Prints first n prime numbers from a given starting value using the function isprimenumber()\n",
    "# Date           Who               Change\n",
    "# 07-JUL-2019    AAD               Created. Initial Version\n",
    "\n",
    "\n",
    "\n",
    "\n",
    "\n",
    "\n",
    "\n",
    "no_of_prime = int(input())\n",
    "stv = int(input())\n",
    "counter = 0\n",
    "number = stv\n",
    "while counter < no_of_prime:\n",
    "    number = number + 1\n",
    "    z = isprimenumber(number)\n",
    "    if z == 'Y':\n",
    "        print('%s' % (number))\n",
    "        counter = counter + 1\n",
    "    else:\n",
    "        continue"
   ]
  },
  {
   "cell_type": "code",
   "execution_count": null,
   "metadata": {},
   "outputs": [],
   "source": []
  }
 ],
 "metadata": {
  "kernelspec": {
   "display_name": "Python 3",
   "language": "python",
   "name": "python3"
  },
  "language_info": {
   "codemirror_mode": {
    "name": "ipython",
    "version": 3
   },
   "file_extension": ".py",
   "mimetype": "text/x-python",
   "name": "python",
   "nbconvert_exporter": "python",
   "pygments_lexer": "ipython3",
   "version": "3.7.1"
  }
 },
 "nbformat": 4,
 "nbformat_minor": 2
}
