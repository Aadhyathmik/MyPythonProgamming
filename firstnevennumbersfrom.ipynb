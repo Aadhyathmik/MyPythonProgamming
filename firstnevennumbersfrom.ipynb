{
 "cells": [
  {
   "cell_type": "code",
   "execution_count": 11,
   "metadata": {},
   "outputs": [
    {
     "name": "stdout",
     "output_type": "stream",
     "text": [
      "Enter No of Even Numbers to Print:2\n",
      "Enter Starting Number:2\n",
      "1001 x =  2  a =  0  counter =  2\n",
      "1002 x =  2  a =  0  counter =  2\n",
      "1003 x =  2  a =  0  counter =  3\n",
      "1004 counter % 2 =  1\n",
      "1002 x =  2  a =  0  counter =  3\n",
      "1003 x =  2  a =  0  counter =  4\n",
      "1005 counter =  4\n",
      "4\n",
      "1002 x =  2  a =  1  counter =  4\n",
      "1003 x =  2  a =  1  counter =  5\n",
      "1004 counter % 2 =  1\n",
      "1002 x =  2  a =  1  counter =  5\n",
      "1003 x =  2  a =  1  counter =  6\n",
      "1005 counter =  6\n",
      "6\n"
     ]
    }
   ],
   "source": [
    "# This program prints the first n even numbers from any starting number\n",
    "# Inputs:    1. Takes a Positive Integer for number of even numbers to print\n",
    "#            2. Takes a Positive Integer for starting number\n",
    "# Outputs:   Prints n even numbers from starting number\n",
    "# Date           Who               Change\n",
    "# 07-JUL-2019    AAD               Created. Initial Version\n",
    "# Using while loop\n",
    "\n",
    "\n",
    "x = int(input('Enter No of Even Numbers to Print:'))\n",
    "a = 0\n",
    "counter = int(input('Enter Starting Number:'))\n",
    "print(\"1001 x = \",x,\" a = \",a,\" counter = \",counter)\n",
    "\n",
    "while a < x:\n",
    "    print(\"1002 x = \",x,\" a = \",a,\" counter = \",counter)\n",
    "    counter = counter + 1\n",
    "    print(\"1003 x = \",x,\" a = \",a,\" counter = \",counter)\n",
    "\n",
    "    if counter % 2 != 0:\n",
    "        print(\"1004 counter % 2 = \",counter % 2)\n",
    "        continue\n",
    "    else:\n",
    "        print(\"1005 counter = \",counter)\n",
    "        print(counter)\n",
    "        a = a + 1\n",
    "        "
   ]
  },
  {
   "cell_type": "code",
   "execution_count": null,
   "metadata": {},
   "outputs": [],
   "source": []
  }
 ],
 "metadata": {
  "kernelspec": {
   "display_name": "Python 3",
   "language": "python",
   "name": "python3"
  },
  "language_info": {
   "codemirror_mode": {
    "name": "ipython",
    "version": 3
   },
   "file_extension": ".py",
   "mimetype": "text/x-python",
   "name": "python",
   "nbconvert_exporter": "python",
   "pygments_lexer": "ipython3",
   "version": "3.7.1"
  }
 },
 "nbformat": 4,
 "nbformat_minor": 2
}
