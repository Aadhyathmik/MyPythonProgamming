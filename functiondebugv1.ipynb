{
 "cells": [
  {
   "cell_type": "code",
   "execution_count": 7,
   "metadata": {},
   "outputs": [
    {
     "name": "stdout",
     "output_type": "stream",
     "text": [
      "Enter No of Even Numbers to Print:7\n",
      "Enter Starting Number:7\n",
      "Print Log (Y/N): n\n",
      "8\n",
      "10\n",
      "12\n",
      "14\n",
      "16\n",
      "18\n",
      "20\n"
     ]
    }
   ],
   "source": [
    "# This program prints the first n even numbers from any starting number\n",
    "# It uses the debug function to print or not print messages\n",
    "# Inputs:    1. Takes a Positive Integer for number of even numbers to print\n",
    "#            2. Takes a Positive Integer for starting number\n",
    "#            3. Takes Y or N. Y = print log messages. N = don't print log messages.\n",
    "#\n",
    "# Outputs:   Prints n even numbers from starting number\n",
    "# Date           Who               Change\n",
    "# 07-JUL-2019    AAD               Created. Initial Version\n",
    "# Using while loop\n",
    "\n",
    "\n",
    "#function debug\n",
    "#Inputs:    1. message\n",
    "#            2. print log flag\n",
    "#Outputs:   Prints message if flag is Y OR y\n",
    "#\n",
    "def debug(message, show):\n",
    "    if show == 'Y' or show== 'y':\n",
    "        print(message)\n",
    "\n",
    "#main\n",
    "x = int(input('Enter No of Even Numbers to Print:'))\n",
    "counter = int(input('Enter Starting Number:'))\n",
    "show_log = input('Print Log (Y/N): ')\n",
    "a = 0\n",
    "log_msg = \"1001 x = \",x,\" a = \",a,\" counter = \",counter\n",
    "debug(log_msg,show_log)\n",
    "\n",
    "while a < x:\n",
    "    log_msg=\"1002 x = \",x,\" a = \",a,\" counter = \",counter\n",
    "    debug(log_msg,show_log)\n",
    "    counter = counter + 1\n",
    "    log_msg=\"1003 x = \",x,\" a = \",a,\" counter = \",counter\n",
    "    debug(log_msg,show_log)\n",
    "    if counter % 2 != 0:\n",
    "        log_msg=\"1004 counter % 2 = \",counter % 2\n",
    "        debug(log_msg,show_log)\n",
    "        continue\n",
    "    else:\n",
    "        log_msg=\"1005 counter = \",counter\n",
    "        debug(log_msg,show_log)\n",
    "        print(counter)\n",
    "        a = a + 1\n",
    "        "
   ]
  },
  {
   "cell_type": "code",
   "execution_count": null,
   "metadata": {},
   "outputs": [],
   "source": []
  },
  {
   "cell_type": "code",
   "execution_count": null,
   "metadata": {},
   "outputs": [],
   "source": []
  }
 ],
 "metadata": {
  "kernelspec": {
   "display_name": "Python 3",
   "language": "python",
   "name": "python3"
  },
  "language_info": {
   "codemirror_mode": {
    "name": "ipython",
    "version": 3
   },
   "file_extension": ".py",
   "mimetype": "text/x-python",
   "name": "python",
   "nbconvert_exporter": "python",
   "pygments_lexer": "ipython3",
   "version": "3.7.1"
  }
 },
 "nbformat": 4,
 "nbformat_minor": 2
}
