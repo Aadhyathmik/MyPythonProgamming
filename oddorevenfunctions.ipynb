{
 "cells": [
  {
   "cell_type": "code",
   "execution_count": 2,
   "metadata": {},
   "outputs": [],
   "source": [
    "def debug(message, show):\n",
    "    if show == 'Y' or show== 'y':\n",
    "        print(message)\n",
    "\n",
    "        \n",
    "        \n",
    "def isevenorodd(x):\n",
    "    if x % 2 == 0:\n",
    "        return 'E'\n",
    "    else:\n",
    "        return 'O'"
   ]
  },
  {
   "cell_type": "code",
   "execution_count": 3,
   "metadata": {},
   "outputs": [
    {
     "data": {
      "text/plain": [
       "'O'"
      ]
     },
     "execution_count": 3,
     "metadata": {},
     "output_type": "execute_result"
    }
   ],
   "source": [
    "isevenorodd(7)"
   ]
  },
  {
   "cell_type": "code",
   "execution_count": null,
   "metadata": {},
   "outputs": [],
   "source": [
    "x = int(input())\n",
    "stv = int(input())\n",
    "counter = stv\n",
    "a = 0\n",
    "while a < x + 1:\n",
    "    counter = counter + 1\n",
    "    a = a + 1\n",
    "    if counter % 2 == 0:\n",
    "        print(counter)\n",
    "    else:\n",
    "        continue"
   ]
  },
  {
   "cell_type": "code",
   "execution_count": null,
   "metadata": {},
   "outputs": [],
   "source": [
    "def firstnevenno(x):\n",
    "    stv = int(input())\n",
    "    counter = stv\n",
    "    a = 0\n",
    "    while a < x * 2 + 1:\n",
    "        counter = counter + 1\n",
    "        a = a + 1\n",
    "        if counter % 2 == 0:\n",
    "            return counter\n",
    "        else:\n",
    "            continue"
   ]
  },
  {
   "cell_type": "code",
   "execution_count": null,
   "metadata": {},
   "outputs": [],
   "source": [
    "firstnevenno(10)"
   ]
  },
  {
   "cell_type": "code",
   "execution_count": null,
   "metadata": {},
   "outputs": [],
   "source": [
    "no_to_print = int(input())\n",
    "number = 0 \n",
    "nos_printed = 0\n",
    "while nos_printed < no_to_print:\n",
    "    number = number + 1\n",
    "    isevenorodd(number)\n",
    "    x = isevenorodd(number)\n",
    "    if x == 'E':\n",
    "        print(number)\n",
    "        nos_printed = nos_printed + 1\n",
    "    else: \n",
    "        continue"
   ]
  },
  {
   "cell_type": "code",
   "execution_count": 5,
   "metadata": {
    "scrolled": true
   },
   "outputs": [
    {
     "name": "stdout",
     "output_type": "stream",
     "text": [
      "10\n",
      "E or OE\n",
      "2\n",
      "4\n",
      "6\n",
      "8\n",
      "10\n",
      "12\n",
      "14\n",
      "16\n",
      "18\n",
      "20\n"
     ]
    }
   ],
   "source": [
    "no_to_print = int(input())\n",
    "oddoreven = input('E or O:')\n",
    "number = 0\n",
    "nos_printed = 0\n",
    "while nos_printed < no_to_print:\n",
    "    number = number + 1\n",
    "    isevenorodd(number)\n",
    "    x = isevenorodd(number)\n",
    "    if oddoreven == x:\n",
    "        print(number)\n",
    "        nos_printed = nos_printed + 1\n",
    "    else:\n",
    "        continue    "
   ]
  },
  {
   "cell_type": "code",
   "execution_count": null,
   "metadata": {},
   "outputs": [],
   "source": []
  }
 ],
 "metadata": {
  "kernelspec": {
   "display_name": "Python 3",
   "language": "python",
   "name": "python3"
  },
  "language_info": {
   "codemirror_mode": {
    "name": "ipython",
    "version": 3
   },
   "file_extension": ".py",
   "mimetype": "text/x-python",
   "name": "python",
   "nbconvert_exporter": "python",
   "pygments_lexer": "ipython3",
   "version": "3.7.1"
  }
 },
 "nbformat": 4,
 "nbformat_minor": 2
}
